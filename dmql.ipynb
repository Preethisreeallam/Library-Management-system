{
 "cells": [
  {
   "cell_type": "code",
   "execution_count": 1,
   "metadata": {},
   "outputs": [],
   "source": [
    "from faker import Faker\n",
    "fake = Faker()"
   ]
  },
  {
   "cell_type": "code",
   "execution_count": 4,
   "metadata": {},
   "outputs": [],
   "source": [
    "idsSet=set()\n",
    "Faker.seed(0)\n",
    "file=open('student.csv','w')\n",
    "for i in range(150):\n",
    "    id=str(fake.random_number(digits=8, fix_len=True))\n",
    "    firstname=fake.first_name()\n",
    "    lastname=fake.last_name()\n",
    "    email=fake.email(domain='buffalo.edu')\n",
    "    phone=fake.msisdn()\n",
    "    dept=fake.random_element(elements=('Biomedical','Chemical','Civil','Computer Science','Electrical','Industrial','Mechanical'))\n",
    "    file.write(id+';'+firstname+';'+lastname+';'+email+';'+phone+';'+dept+'\\n')"
   ]
  },
  {
   "cell_type": "code",
   "execution_count": 13,
   "metadata": {},
   "outputs": [],
   "source": [
    "publisher_name={'Katherine Tegen Books','HarperCollins e-books','Small or Medium Publisher','Little, Brown and Company','Dutton Children\\'s','Thomas & Mercer','Center Street','Doubleday','Putnam Adult','Indie Publisher','William Morrow Paperbacks','Knopf Books for Young Readers','Skyscape','Amazon Publishing','Simon & Schuster','Single-Author Publisher','Viking Adult','Montlake Romance','William Morrow','HarperPerennial Classics','Crown','Random House','47North','Loveswept','Entangled: Brazen','Berkley','Dutton Adult','Bantam','AmazonEncore','Grand Central Publishing','Penguin Books','Forever','Vintage','St. Martin\\'s Press','Razorbill','InterMix','Henry Holt and Co.','Knopf','Scribner','Harper','Margaret K. McElderry Books','Dell','Tor Books','Broadway Books','Reagan Arthur Books','Ballantine Books','Delacorte Press','Feiwel & Friends','Riverhead','Avon'}\n"
   ]
  },
  {
   "cell_type": "code",
   "execution_count": null,
   "metadata": {},
   "outputs": [],
   "source": []
  }
 ],
 "metadata": {
  "kernelspec": {
   "display_name": "Python 3",
   "language": "python",
   "name": "python3"
  },
  "language_info": {
   "codemirror_mode": {
    "name": "ipython",
    "version": 3
   },
   "file_extension": ".py",
   "mimetype": "text/x-python",
   "name": "python",
   "nbconvert_exporter": "python",
   "pygments_lexer": "ipython3",
   "version": "3.8.5"
  }
 },
 "nbformat": 4,
 "nbformat_minor": 4
}
